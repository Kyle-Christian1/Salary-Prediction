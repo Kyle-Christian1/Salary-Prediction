{
 "cells": [
  {
   "cell_type": "markdown",
   "id": "ef9cd6ae",
   "metadata": {
    "papermill": {
     "duration": 0.008012,
     "end_time": "2023-05-21T03:37:18.107763",
     "exception": false,
     "start_time": "2023-05-21T03:37:18.099751",
     "status": "completed"
    },
    "tags": []
   },
   "source": [
    "# Libraries Imported"
   ]
  },
  {
   "cell_type": "code",
   "execution_count": 1,
   "id": "acfc904a",
   "metadata": {
    "execution": {
     "iopub.execute_input": "2023-05-21T03:37:18.125778Z",
     "iopub.status.busy": "2023-05-21T03:37:18.125113Z",
     "iopub.status.idle": "2023-05-21T03:37:19.776963Z",
     "shell.execute_reply": "2023-05-21T03:37:19.775709Z"
    },
    "papermill": {
     "duration": 1.664548,
     "end_time": "2023-05-21T03:37:19.780096",
     "exception": false,
     "start_time": "2023-05-21T03:37:18.115548",
     "status": "completed"
    },
    "tags": []
   },
   "outputs": [
    {
     "name": "stderr",
     "output_type": "stream",
     "text": [
      "/opt/conda/lib/python3.10/site-packages/scipy/__init__.py:146: UserWarning: A NumPy version >=1.16.5 and <1.23.0 is required for this version of SciPy (detected version 1.23.5\n",
      "  warnings.warn(f\"A NumPy version >={np_minversion} and <{np_maxversion}\"\n"
     ]
    }
   ],
   "source": [
    "import pandas as pd\n",
    "import numpy as np\n",
    "from sklearn.model_selection import train_test_split\n",
    "from IPython.display import display_html \n",
    "from sklearn.linear_model import LinearRegression \n",
    "from sklearn.metrics import r2_score\n",
    "import ipywidgets as widgets\n",
    "import matplotlib.pyplot as plt"
   ]
  },
  {
   "cell_type": "markdown",
   "id": "aa258a75",
   "metadata": {
    "papermill": {
     "duration": 0.007608,
     "end_time": "2023-05-21T03:37:19.796042",
     "exception": false,
     "start_time": "2023-05-21T03:37:19.788434",
     "status": "completed"
    },
    "tags": []
   },
   "source": [
    "# Data Loaded"
   ]
  },
  {
   "cell_type": "code",
   "execution_count": 2,
   "id": "ccbfc70d",
   "metadata": {
    "_cell_guid": "b1076dfc-b9ad-4769-8c92-a6c4dae69d19",
    "_uuid": "8f2839f25d086af736a60e9eeb907d3b93b6e0e5",
    "execution": {
     "iopub.execute_input": "2023-05-21T03:37:19.815081Z",
     "iopub.status.busy": "2023-05-21T03:37:19.813832Z",
     "iopub.status.idle": "2023-05-21T03:37:19.993398Z",
     "shell.execute_reply": "2023-05-21T03:37:19.992122Z"
    },
    "papermill": {
     "duration": 0.192713,
     "end_time": "2023-05-21T03:37:19.996687",
     "exception": false,
     "start_time": "2023-05-21T03:37:19.803974",
     "status": "completed"
    },
    "tags": []
   },
   "outputs": [],
   "source": [
    "url = \"https://raw.githubusercontent.com/tweaksneak/cyber-dataset/main/salaries_cyber.csv\"\n",
    "df = pd.read_csv(url)\n",
    "column_names = ['work_year', 'experience_level', 'employment_type', 'job_title', 'salary', 'salary_currency', 'salary_in_usd', 'employee_residence', 'remote_ratio', 'company_location', 'company_size']\n",
    "df = pd.read_csv(url, names = column_names, nrows = 100, header = 0)\n",
    "pd.options.display.show_dimensions = False\n",
    "#print(df)"
   ]
  },
  {
   "cell_type": "markdown",
   "id": "c528d019",
   "metadata": {
    "papermill": {
     "duration": 0.007902,
     "end_time": "2023-05-21T03:37:20.013493",
     "exception": false,
     "start_time": "2023-05-21T03:37:20.005591",
     "status": "completed"
    },
    "tags": []
   },
   "source": [
    "# Display Datatypes"
   ]
  },
  {
   "cell_type": "code",
   "execution_count": 3,
   "id": "5dbf9ff0",
   "metadata": {
    "execution": {
     "iopub.execute_input": "2023-05-21T03:37:20.032004Z",
     "iopub.status.busy": "2023-05-21T03:37:20.031539Z",
     "iopub.status.idle": "2023-05-21T03:37:20.048518Z",
     "shell.execute_reply": "2023-05-21T03:37:20.047302Z"
    },
    "papermill": {
     "duration": 0.029298,
     "end_time": "2023-05-21T03:37:20.050992",
     "exception": false,
     "start_time": "2023-05-21T03:37:20.021694",
     "status": "completed"
    },
    "tags": []
   },
   "outputs": [
    {
     "data": {
      "text/plain": [
       "work_year              int64\n",
       "experience_level      object\n",
       "employment_type       object\n",
       "job_title             object\n",
       "salary                 int64\n",
       "salary_currency       object\n",
       "salary_in_usd          int64\n",
       "employee_residence    object\n",
       "remote_ratio           int64\n",
       "company_location      object\n",
       "company_size          object\n",
       "dtype: object"
      ]
     },
     "execution_count": 3,
     "metadata": {},
     "output_type": "execute_result"
    }
   ],
   "source": [
    "#print(pd.to_numeric(df.salary_in_usd, errors='coerce').dtype)\n",
    "df.dtypes"
   ]
  },
  {
   "cell_type": "markdown",
   "id": "74c33e84",
   "metadata": {
    "papermill": {
     "duration": 0.008524,
     "end_time": "2023-05-21T03:37:20.067616",
     "exception": false,
     "start_time": "2023-05-21T03:37:20.059092",
     "status": "completed"
    },
    "tags": []
   },
   "source": [
    "# Number of Jobs by Experience Level"
   ]
  },
  {
   "cell_type": "code",
   "execution_count": 4,
   "id": "62f71c53",
   "metadata": {
    "execution": {
     "iopub.execute_input": "2023-05-21T03:37:20.086267Z",
     "iopub.status.busy": "2023-05-21T03:37:20.085298Z",
     "iopub.status.idle": "2023-05-21T03:37:20.444102Z",
     "shell.execute_reply": "2023-05-21T03:37:20.442869Z"
    },
    "papermill": {
     "duration": 0.371393,
     "end_time": "2023-05-21T03:37:20.447204",
     "exception": false,
     "start_time": "2023-05-21T03:37:20.075811",
     "status": "completed"
    },
    "tags": []
   },
   "outputs": [
    {
     "data": {
      "image/png": "[encoded data removed]",
      "text/plain": [
       "<Figure size 640x480 with 1 Axes>"
      ]
     },
     "metadata": {},
     "output_type": "display_data"
    }
   ],
   "source": [
    "plt.xticks([])\n",
    "num_types = df.groupby(by='experience_level').size()\n",
    "bargraph = num_types.sort_values().plot.bar(ylabel = 'number of jobs', title = 'Number of jobs by Experience Level', color=['red','blue','green', 'purple'],rot=0)"
   ]
  },
  {
   "cell_type": "markdown",
   "id": "6f8e8696",
   "metadata": {
    "papermill": {
     "duration": 0.008461,
     "end_time": "2023-05-21T03:37:20.464131",
     "exception": false,
     "start_time": "2023-05-21T03:37:20.455670",
     "status": "completed"
    },
    "tags": []
   },
   "source": [
    "# Percentage of Jobs Based on Experience"
   ]
  },
  {
   "cell_type": "code",
   "execution_count": 5,
   "id": "4120fccd",
   "metadata": {
    "execution": {
     "iopub.execute_input": "2023-05-21T03:37:20.482872Z",
     "iopub.status.busy": "2023-05-21T03:37:20.482457Z",
     "iopub.status.idle": "2023-05-21T03:37:20.667372Z",
     "shell.execute_reply": "2023-05-21T03:37:20.665735Z"
    },
    "papermill": {
     "duration": 0.199661,
     "end_time": "2023-05-21T03:37:20.672235",
     "exception": false,
     "start_time": "2023-05-21T03:37:20.472574",
     "status": "completed"
    },
    "tags": []
   },
   "outputs": [
    {
     "data": {
      "image/png": "[encoded data removed]",
      "text/plain": [
       "<Figure size 640x480 with 1 Axes>"
      ]
     },
     "metadata": {},
     "output_type": "display_data"
    }
   ],
   "source": [
    "labels = 'Entry level', 'Experienced', 'Mid Level', 'Senior Level'\n",
    "fig, ax = plt.subplots()\n",
    "ax.set(title = 'Percentage of jobs based on experience')\n",
    "piechart = ax.pie(num_types, labels=labels, autopct='%1.1f%%')"
   ]
  },
  {
   "cell_type": "markdown",
   "id": "13728707",
   "metadata": {
    "papermill": {
     "duration": 0.017568,
     "end_time": "2023-05-21T03:37:20.708022",
     "exception": false,
     "start_time": "2023-05-21T03:37:20.690454",
     "status": "completed"
    },
    "tags": []
   },
   "source": [
    "# Average Salary Based on Experience"
   ]
  },
  {
   "cell_type": "code",
   "execution_count": 6,
   "id": "aaeed3fa",
   "metadata": {
    "execution": {
     "iopub.execute_input": "2023-05-21T03:37:20.729283Z",
     "iopub.status.busy": "2023-05-21T03:37:20.728661Z",
     "iopub.status.idle": "2023-05-21T03:37:21.035864Z",
     "shell.execute_reply": "2023-05-21T03:37:21.034730Z"
    },
    "papermill": {
     "duration": 0.320593,
     "end_time": "2023-05-21T03:37:21.038217",
     "exception": false,
     "start_time": "2023-05-21T03:37:20.717624",
     "status": "completed"
    },
    "tags": []
   },
   "outputs": [
    {
     "data": {
      "image/png": "[encoded data removed]",
      "text/plain": [
       "<Figure size 640x480 with 1 Axes>"
      ]
     },
     "metadata": {},
     "output_type": "display_data"
    }
   ],
   "source": [
    "num_types = df.groupby(by='experience_level').salary_in_usd.mean()\n",
    "barplot = num_types.sort_values().plot.bar(ylabel = 'Salary', title = 'Average Salary Based on Experience', color=['purple'],rot=0)"
   ]
  },
  {
   "cell_type": "markdown",
   "id": "09dffde3",
   "metadata": {
    "papermill": {
     "duration": 0.008712,
     "end_time": "2023-05-21T03:37:21.056072",
     "exception": false,
     "start_time": "2023-05-21T03:37:21.047360",
     "status": "completed"
    },
    "tags": []
   },
   "source": [
    "# Set Independent and Dependent Variables"
   ]
  },
  {
   "cell_type": "code",
   "execution_count": 7,
   "id": "f330db05",
   "metadata": {
    "execution": {
     "iopub.execute_input": "2023-05-21T03:37:21.076565Z",
     "iopub.status.busy": "2023-05-21T03:37:21.076132Z",
     "iopub.status.idle": "2023-05-21T03:37:21.090787Z",
     "shell.execute_reply": "2023-05-21T03:37:21.089414Z"
    },
    "papermill": {
     "duration": 0.029697,
     "end_time": "2023-05-21T03:37:21.094900",
     "exception": false,
     "start_time": "2023-05-21T03:37:21.065203",
     "status": "completed"
    },
    "tags": []
   },
   "outputs": [],
   "source": [
    "X = pd.get_dummies(df.drop(columns=['work_year', 'job_title', 'salary_in_usd', 'employment_type', 'salary', 'salary_currency', 'employee_residence', 'remote_ratio', 'company_location', 'company_size'])) #indpendent variables\n",
    "y = df[['salary_in_usd']].copy() #dependent variables"
   ]
  },
  {
   "cell_type": "markdown",
   "id": "25829960",
   "metadata": {
    "papermill": {
     "duration": 0.008938,
     "end_time": "2023-05-21T03:37:21.114936",
     "exception": false,
     "start_time": "2023-05-21T03:37:21.105998",
     "status": "completed"
    },
    "tags": []
   },
   "source": [
    "# Split the variable sets into Training and Testing Subsets"
   ]
  },
  {
   "cell_type": "code",
   "execution_count": 8,
   "id": "e89ea4c4",
   "metadata": {
    "execution": {
     "iopub.execute_input": "2023-05-21T03:37:21.135200Z",
     "iopub.status.busy": "2023-05-21T03:37:21.134821Z",
     "iopub.status.idle": "2023-05-21T03:37:21.142794Z",
     "shell.execute_reply": "2023-05-21T03:37:21.141601Z"
    },
    "papermill": {
     "duration": 0.021056,
     "end_time": "2023-05-21T03:37:21.145189",
     "exception": false,
     "start_time": "2023-05-21T03:37:21.124133",
     "status": "completed"
    },
    "tags": []
   },
   "outputs": [],
   "source": [
    "X_train, X_test, y_train, y_test = train_test_split(X, y, test_size=.333, random_state=21)"
   ]
  },
  {
   "cell_type": "markdown",
   "id": "3271759f",
   "metadata": {
    "papermill": {
     "duration": 0.009141,
     "end_time": "2023-05-21T03:37:21.163797",
     "exception": false,
     "start_time": "2023-05-21T03:37:21.154656",
     "status": "completed"
    },
    "tags": []
   },
   "source": [
    "# Display variables"
   ]
  },
  {
   "cell_type": "code",
   "execution_count": 9,
   "id": "0873cc18",
   "metadata": {
    "execution": {
     "iopub.execute_input": "2023-05-21T03:37:21.184667Z",
     "iopub.status.busy": "2023-05-21T03:37:21.183423Z",
     "iopub.status.idle": "2023-05-21T03:37:21.281432Z",
     "shell.execute_reply": "2023-05-21T03:37:21.280187Z"
    },
    "papermill": {
     "duration": 0.111011,
     "end_time": "2023-05-21T03:37:21.283915",
     "exception": false,
     "start_time": "2023-05-21T03:37:21.172904",
     "status": "completed"
    },
    "tags": []
   },
   "outputs": [
    {
     "data": {
      "text/html": [
       "<style type=\"text/css\">\n",
       "</style>\n",
       "<table id=\"T_793af\" style='display:inline'>\n",
       "  <caption>Independents variables</caption>\n",
       "  <thead>\n",
       "    <tr>\n",
       "      <th class=\"blank level0\" >&nbsp;</th>\n",
       "      <th id=\"T_793af_level0_col0\" class=\"col_heading level0 col0\" >experience_level_EN</th>\n",
       "      <th id=\"T_793af_level0_col1\" class=\"col_heading level0 col1\" >experience_level_EX</th>\n",
       "      <th id=\"T_793af_level0_col2\" class=\"col_heading level0 col2\" >experience_level_MI</th>\n",
       "      <th id=\"T_793af_level0_col3\" class=\"col_heading level0 col3\" >experience_level_SE</th>\n",
       "    </tr>\n",
       "  </thead>\n",
       "  <tbody>\n",
       "    <tr>\n",
       "      <th id=\"T_793af_level0_row0\" class=\"row_heading level0 row0\" >14</th>\n",
       "      <td id=\"T_793af_row0_col0\" class=\"data row0 col0\" >0</td>\n",
       "      <td id=\"T_793af_row0_col1\" class=\"data row0 col1\" >1</td>\n",
       "      <td id=\"T_793af_row0_col2\" class=\"data row0 col2\" >0</td>\n",
       "      <td id=\"T_793af_row0_col3\" class=\"data row0 col3\" >0</td>\n",
       "    </tr>\n",
       "    <tr>\n",
       "      <th id=\"T_793af_level0_row1\" class=\"row_heading level0 row1\" >67</th>\n",
       "      <td id=\"T_793af_row1_col0\" class=\"data row1 col0\" >0</td>\n",
       "      <td id=\"T_793af_row1_col1\" class=\"data row1 col1\" >0</td>\n",
       "      <td id=\"T_793af_row1_col2\" class=\"data row1 col2\" >0</td>\n",
       "      <td id=\"T_793af_row1_col3\" class=\"data row1 col3\" >1</td>\n",
       "    </tr>\n",
       "    <tr>\n",
       "      <th id=\"T_793af_level0_row2\" class=\"row_heading level0 row2\" >92</th>\n",
       "      <td id=\"T_793af_row2_col0\" class=\"data row2 col0\" >0</td>\n",
       "      <td id=\"T_793af_row2_col1\" class=\"data row2 col1\" >0</td>\n",
       "      <td id=\"T_793af_row2_col2\" class=\"data row2 col2\" >1</td>\n",
       "      <td id=\"T_793af_row2_col3\" class=\"data row2 col3\" >0</td>\n",
       "    </tr>\n",
       "    <tr>\n",
       "      <th id=\"T_793af_level0_row3\" class=\"row_heading level0 row3\" >65</th>\n",
       "      <td id=\"T_793af_row3_col0\" class=\"data row3 col0\" >0</td>\n",
       "      <td id=\"T_793af_row3_col1\" class=\"data row3 col1\" >0</td>\n",
       "      <td id=\"T_793af_row3_col2\" class=\"data row3 col2\" >0</td>\n",
       "      <td id=\"T_793af_row3_col3\" class=\"data row3 col3\" >1</td>\n",
       "    </tr>\n",
       "    <tr>\n",
       "      <th id=\"T_793af_level0_row4\" class=\"row_heading level0 row4\" >47</th>\n",
       "      <td id=\"T_793af_row4_col0\" class=\"data row4 col0\" >0</td>\n",
       "      <td id=\"T_793af_row4_col1\" class=\"data row4 col1\" >1</td>\n",
       "      <td id=\"T_793af_row4_col2\" class=\"data row4 col2\" >0</td>\n",
       "      <td id=\"T_793af_row4_col3\" class=\"data row4 col3\" >0</td>\n",
       "    </tr>\n",
       "  </tbody>\n",
       "</table>\n",
       "          <style type=\"text/css\">\n",
       "</style>\n",
       "<table id=\"T_f215f\" style='display:inline'>\n",
       "  <caption>Dependents variables</caption>\n",
       "  <thead>\n",
       "    <tr>\n",
       "      <th class=\"blank level0\" >&nbsp;</th>\n",
       "      <th id=\"T_f215f_level0_col0\" class=\"col_heading level0 col0\" >salary_in_usd</th>\n",
       "    </tr>\n",
       "  </thead>\n",
       "  <tbody>\n",
       "    <tr>\n",
       "      <th id=\"T_f215f_level0_row0\" class=\"row_heading level0 row0\" >14</th>\n",
       "      <td id=\"T_f215f_row0_col0\" class=\"data row0 col0\" >290000</td>\n",
       "    </tr>\n",
       "    <tr>\n",
       "      <th id=\"T_f215f_level0_row1\" class=\"row_heading level0 row1\" >67</th>\n",
       "      <td id=\"T_f215f_row1_col0\" class=\"data row1 col0\" >245000</td>\n",
       "    </tr>\n",
       "    <tr>\n",
       "      <th id=\"T_f215f_level0_row2\" class=\"row_heading level0 row2\" >92</th>\n",
       "      <td id=\"T_f215f_row2_col0\" class=\"data row2 col0\" >86500</td>\n",
       "    </tr>\n",
       "    <tr>\n",
       "      <th id=\"T_f215f_level0_row3\" class=\"row_heading level0 row3\" >65</th>\n",
       "      <td id=\"T_f215f_row3_col0\" class=\"data row3 col0\" >207000</td>\n",
       "    </tr>\n",
       "    <tr>\n",
       "      <th id=\"T_f215f_level0_row4\" class=\"row_heading level0 row4\" >47</th>\n",
       "      <td id=\"T_f215f_row4_col0\" class=\"data row4 col0\" >102000</td>\n",
       "    </tr>\n",
       "  </tbody>\n",
       "</table>\n"
      ]
     },
     "metadata": {},
     "output_type": "display_data"
    }
   ],
   "source": [
    "X_train_styler = X_train.head(5).style.set_table_attributes(\"style='display:inline'\").set_caption('Independents variables')\n",
    "y_train_styler = y_train.head(5).style.set_table_attributes(\"style='display:inline'\").set_caption('Dependents variables')\n",
    "space = \"\\xa0\" * 10 #space between columns\n",
    "display_html(X_train_styler._repr_html_()+ space  + y_train_styler._repr_html_(), raw=True)"
   ]
  },
  {
   "cell_type": "markdown",
   "id": "6736adde",
   "metadata": {
    "papermill": {
     "duration": 0.009211,
     "end_time": "2023-05-21T03:37:21.302705",
     "exception": false,
     "start_time": "2023-05-21T03:37:21.293494",
     "status": "completed"
    },
    "tags": []
   },
   "source": [
    "# Train X and y"
   ]
  },
  {
   "cell_type": "code",
   "execution_count": 10,
   "id": "114024c1",
   "metadata": {
    "execution": {
     "iopub.execute_input": "2023-05-21T03:37:21.323642Z",
     "iopub.status.busy": "2023-05-21T03:37:21.323178Z",
     "iopub.status.idle": "2023-05-21T03:37:21.329286Z",
     "shell.execute_reply": "2023-05-21T03:37:21.328038Z"
    },
    "papermill": {
     "duration": 0.019444,
     "end_time": "2023-05-21T03:37:21.331586",
     "exception": false,
     "start_time": "2023-05-21T03:37:21.312142",
     "status": "completed"
    },
    "tags": []
   },
   "outputs": [],
   "source": [
    "y_train_array, y_test_array = y_train['salary_in_usd'].values, y_test['salary_in_usd'].values\n",
    "X_train_array, X_test_array = X_train.values, X_test.values"
   ]
  },
  {
   "cell_type": "markdown",
   "id": "34be4b5c",
   "metadata": {
    "papermill": {
     "duration": 0.009104,
     "end_time": "2023-05-21T03:37:21.350136",
     "exception": false,
     "start_time": "2023-05-21T03:37:21.341032",
     "status": "completed"
    },
    "tags": []
   },
   "source": [
    "# Create Linear Regression Model and fit it with training data"
   ]
  },
  {
   "cell_type": "code",
   "execution_count": 11,
   "id": "8061f2ca",
   "metadata": {
    "execution": {
     "iopub.execute_input": "2023-05-21T03:37:21.371521Z",
     "iopub.status.busy": "2023-05-21T03:37:21.370331Z",
     "iopub.status.idle": "2023-05-21T03:37:21.400397Z",
     "shell.execute_reply": "2023-05-21T03:37:21.399125Z"
    },
    "papermill": {
     "duration": 0.043783,
     "end_time": "2023-05-21T03:37:21.403253",
     "exception": false,
     "start_time": "2023-05-21T03:37:21.359470",
     "status": "completed"
    },
    "tags": []
   },
   "outputs": [],
   "source": [
    "linear_reg_model = LinearRegression()\n",
    "linear_reg_model.fit(X_train,y_train)\n",
    "y_pred= linear_reg_model.predict(X_test)"
   ]
  },
  {
   "cell_type": "markdown",
   "id": "bf82e034",
   "metadata": {
    "papermill": {
     "duration": 0.009141,
     "end_time": "2023-05-21T03:37:21.421965",
     "exception": false,
     "start_time": "2023-05-21T03:37:21.412824",
     "status": "completed"
    },
    "tags": []
   },
   "source": [
    "# Check Accuracy using R^2"
   ]
  },
  {
   "cell_type": "code",
   "execution_count": 12,
   "id": "f1151a21",
   "metadata": {
    "execution": {
     "iopub.execute_input": "2023-05-21T03:37:21.443023Z",
     "iopub.status.busy": "2023-05-21T03:37:21.442613Z",
     "iopub.status.idle": "2023-05-21T03:37:21.452532Z",
     "shell.execute_reply": "2023-05-21T03:37:21.451348Z"
    },
    "papermill": {
     "duration": 0.023657,
     "end_time": "2023-05-21T03:37:21.455049",
     "exception": false,
     "start_time": "2023-05-21T03:37:21.431392",
     "status": "completed"
    },
    "tags": []
   },
   "outputs": [
    {
     "data": {
      "text/plain": [
       "0.43118951152157314"
      ]
     },
     "execution_count": 12,
     "metadata": {},
     "output_type": "execute_result"
    }
   ],
   "source": [
    "r2_score(y_test, y_pred)"
   ]
  },
  {
   "cell_type": "markdown",
   "id": "0909f577",
   "metadata": {
    "papermill": {
     "duration": 0.009578,
     "end_time": "2023-05-21T03:37:21.475221",
     "exception": false,
     "start_time": "2023-05-21T03:37:21.465643",
     "status": "completed"
    },
    "tags": []
   },
   "source": [
    "# Prompt user to select experience level"
   ]
  },
  {
   "cell_type": "code",
   "execution_count": 13,
   "id": "de46d603",
   "metadata": {
    "execution": {
     "iopub.execute_input": "2023-05-21T03:37:21.496731Z",
     "iopub.status.busy": "2023-05-21T03:37:21.496345Z",
     "iopub.status.idle": "2023-05-21T03:37:21.526988Z",
     "shell.execute_reply": "2023-05-21T03:37:21.525605Z"
    },
    "papermill": {
     "duration": 0.046269,
     "end_time": "2023-05-21T03:37:21.531131",
     "exception": false,
     "start_time": "2023-05-21T03:37:21.484862",
     "status": "completed"
    },
    "tags": []
   },
   "outputs": [
    {
     "data": {
      "application/vnd.jupyter.widget-view+json": {
       "model_id": "bf508548da934b0db5413772acc576dc",
       "version_major": 2,
       "version_minor": 0
      },
      "text/plain": [
       "Dropdown(description='Level of experience:', options=(('Entry level', 1), ('Mid level', 2), ('Senior Level', 3…"
      ]
     },
     "metadata": {},
     "output_type": "display_data"
    },
    {
     "data": {
      "application/vnd.jupyter.widget-view+json": {
       "model_id": "7ef79d0373bc456d9dca36df2a7f9a47",
       "version_major": 2,
       "version_minor": 0
      },
      "text/plain": [
       "Button(description='Click Me!', style=ButtonStyle())"
      ]
     },
     "metadata": {},
     "output_type": "display_data"
    },
    {
     "data": {
      "application/vnd.jupyter.widget-view+json": {
       "model_id": "9fcc75bec2d449fdb3ca717b3d20c305",
       "version_major": 2,
       "version_minor": 0
      },
      "text/plain": [
       "Output()"
      ]
     },
     "metadata": {},
     "output_type": "display_data"
    }
   ],
   "source": [
    "user_selection = 1\n",
    "\n",
    "yes = widgets.Dropdown(\n",
    "        options=[('Entry level', 1), ('Mid level', 2), ('Senior Level', 3), ('Experienced', 4)],\n",
    "        value=1,\n",
    "        description='Level of experience:',\n",
    "        disabled = False\n",
    "        )\n",
    "\n",
    "display(yes)\n",
    "\n",
    "def callme(user_selection):\n",
    "    \n",
    "    if user_selection == 1:\n",
    "        user_response = 'Entry Level'\n",
    "        user_choice = [1,0,0,0]\n",
    "    elif user_selection == 2:\n",
    "        user_response = 'Middle Level'\n",
    "        user_choice = [0,0,1,0]\n",
    "    elif user_selection == 3:\n",
    "        user_response = 'Senior Level'\n",
    "        user_choice = [0,0,0,1]\n",
    "    elif user_selection == 4:\n",
    "        user_response = 'Experienced'\n",
    "        user_choice = [0,1,0,0]\n",
    "        \n",
    "    print('You selected: ', user_response)\n",
    "    column_names_short = ['experience_level_EN', 'experience_level_EX', 'experience_level_MI','experience_level_SE']\n",
    "    input_df = pd.DataFrame(np.array([user_choice]), columns = column_names_short)\n",
    "\n",
    "    user_pred = linear_reg_model.predict(input_df)\n",
    "    print('The predicted salary based on your experience level is: ', user_pred)\n",
    "    user_selection = yes.get_interact_value(\n",
    "    \n",
    ")\n",
    "\n",
    "run_button = widgets.Button(description = 'Predict Salary')\n",
    "\n",
    "from IPython.display import display\n",
    "button = widgets.Button(description=\"Click Me!\")\n",
    "output = widgets.Output()\n",
    "\n",
    "display(button, output)\n",
    "\n",
    "def on_button_clicked(b):\n",
    "    with output:\n",
    "        callme(yes.get_interact_value())\n",
    "\n",
    "button.on_click(on_button_clicked)\n"
   ]
  }
 ],
 "metadata": {
  "kernelspec": {
   "display_name": "Python 3",
   "language": "python",
   "name": "python3"
  },
  "language_info": {
   "codemirror_mode": {
    "name": "ipython",
    "version": 3
   },
   "file_extension": ".py",
   "mimetype": "text/x-python",
   "name": "python",
   "nbconvert_exporter": "python",
   "pygments_lexer": "ipython3",
   "version": "3.10.10"
  },
  "papermill": {
   "default_parameters": {},
   "duration": 18.923258,
   "end_time": "2023-05-21T03:37:22.565009",
   "environment_variables": {},
   "exception": null,
   "input_path": "__notebook__.ipynb",
   "output_path": "__notebook__.ipynb",
   "parameters": {},
   "start_time": "2023-05-21T03:37:03.641751",
   "version": "2.4.0"
  },
  "widgets": {
   "application/vnd.jupyter.widget-state+json": {
    "state": {
     "005ce3c28c474ddbaf25215e4f66e83c": {
      "model_module": "@jupyter-widgets/controls",
      "model_module_version": "1.5.0",
      "model_name": "DescriptionStyleModel",
      "state": {
       "_model_module": "@jupyter-widgets/controls",
       "_model_module_version": "1.5.0",
       "_model_name": "DescriptionStyleModel",
       "_view_count": null,
       "_view_module": "@jupyter-widgets/base",
       "_view_module_version": "1.2.0",
       "_view_name": "StyleView",
       "description_width": ""
      }
     },
     "5dfdcc2791de46faad7bab8ad57c6ad3": {
      "model_module": "@jupyter-widgets/base",
      "model_module_version": "1.2.0",
      "model_name": "LayoutModel",
      "state": {
       "_model_module": "@jupyter-widgets/base",
       "_model_module_version": "1.2.0",
       "_model_name": "LayoutModel",
       "_view_count": null,
       "_view_module": "@jupyter-widgets/base",
       "_view_module_version": "1.2.0",
       "_view_name": "LayoutView",
       "align_content": null,
       "align_items": null,
       "align_self": null,
       "border": null,
       "bottom": null,
       "display": null,
       "flex": null,
       "flex_flow": null,
       "grid_area": null,
       "grid_auto_columns": null,
       "grid_auto_flow": null,
       "grid_auto_rows": null,
       "grid_column": null,
       "grid_gap": null,
       "grid_row": null,
       "grid_template_areas": null,
       "grid_template_columns": null,
       "grid_template_rows": null,
       "height": null,
       "justify_content": null,
       "justify_items": null,
       "left": null,
       "margin": null,
       "max_height": null,
       "max_width": null,
       "min_height": null,
       "min_width": null,
       "object_fit": null,
       "object_position": null,
       "order": null,
       "overflow": null,
       "overflow_x": null,
       "overflow_y": null,
       "padding": null,
       "right": null,
       "top": null,
       "visibility": null,
       "width": null
      }
     },
     "7ef79d0373bc456d9dca36df2a7f9a47": {
      "model_module": "@jupyter-widgets/controls",
      "model_module_version": "1.5.0",
      "model_name": "ButtonModel",
      "state": {
       "_dom_classes": [],
       "_model_module": "@jupyter-widgets/controls",
       "_model_module_version": "1.5.0",
       "_model_name": "ButtonModel",
       "_view_count": null,
       "_view_module": "@jupyter-widgets/controls",
       "_view_module_version": "1.5.0",
       "_view_name": "ButtonView",
       "button_style": "",
       "description": "Click Me!",
       "disabled": false,
       "icon": "",
       "layout": "IPY_MODEL_8670e63efc5e495781b1b7b3fd1b4498",
       "style": "IPY_MODEL_e82a683eb40542beb5865181376f58b4",
       "tooltip": ""
      }
     },
     "865c17daa38349359c428588b087f211": {
      "model_module": "@jupyter-widgets/base",
      "model_module_version": "1.2.0",
      "model_name": "LayoutModel",
      "state": {
       "_model_module": "@jupyter-widgets/base",
       "_model_module_version": "1.2.0",
       "_model_name": "LayoutModel",
       "_view_count": null,
       "_view_module": "@jupyter-widgets/base",
       "_view_module_version": "1.2.0",
       "_view_name": "LayoutView",
       "align_content": null,
       "align_items": null,
       "align_self": null,
       "border": null,
       "bottom": null,
       "display": null,
       "flex": null,
       "flex_flow": null,
       "grid_area": null,
       "grid_auto_columns": null,
       "grid_auto_flow": null,
       "grid_auto_rows": null,
       "grid_column": null,
       "grid_gap": null,
       "grid_row": null,
       "grid_template_areas": null,
       "grid_template_columns": null,
       "grid_template_rows": null,
       "height": null,
       "justify_content": null,
       "justify_items": null,
       "left": null,
       "margin": null,
       "max_height": null,
       "max_width": null,
       "min_height": null,
       "min_width": null,
       "object_fit": null,
       "object_position": null,
       "order": null,
       "overflow": null,
       "overflow_x": null,
       "overflow_y": null,
       "padding": null,
       "right": null,
       "top": null,
       "visibility": null,
       "width": null
      }
     },
     "8670e63efc5e495781b1b7b3fd1b4498": {
      "model_module": "@jupyter-widgets/base",
      "model_module_version": "1.2.0",
      "model_name": "LayoutModel",
      "state": {
       "_model_module": "@jupyter-widgets/base",
       "_model_module_version": "1.2.0",
       "_model_name": "LayoutModel",
       "_view_count": null,
       "_view_module": "@jupyter-widgets/base",
       "_view_module_version": "1.2.0",
       "_view_name": "LayoutView",
       "align_content": null,
       "align_items": null,
       "align_self": null,
       "border": null,
       "bottom": null,
       "display": null,
       "flex": null,
       "flex_flow": null,
       "grid_area": null,
       "grid_auto_columns": null,
       "grid_auto_flow": null,
       "grid_auto_rows": null,
       "grid_column": null,
       "grid_gap": null,
       "grid_row": null,
       "grid_template_areas": null,
       "grid_template_columns": null,
       "grid_template_rows": null,
       "height": null,
       "justify_content": null,
       "justify_items": null,
       "left": null,
       "margin": null,
       "max_height": null,
       "max_width": null,
       "min_height": null,
       "min_width": null,
       "object_fit": null,
       "object_position": null,
       "order": null,
       "overflow": null,
       "overflow_x": null,
       "overflow_y": null,
       "padding": null,
       "right": null,
       "top": null,
       "visibility": null,
       "width": null
      }
     },
     "9907f2caaaa44d578f7b0947732f6b42": {
      "model_module": "@jupyter-widgets/controls",
      "model_module_version": "1.5.0",
      "model_name": "ButtonModel",
      "state": {
       "_dom_classes": [],
       "_model_module": "@jupyter-widgets/controls",
       "_model_module_version": "1.5.0",
       "_model_name": "ButtonModel",
       "_view_count": null,
       "_view_module": "@jupyter-widgets/controls",
       "_view_module_version": "1.5.0",
       "_view_name": "ButtonView",
       "button_style": "",
       "description": "Predict Salary",
       "disabled": false,
       "icon": "",
       "layout": "IPY_MODEL_d0b8515f30804b5fbed0a0aeebdf749c",
       "style": "IPY_MODEL_cd26df4307544e3fa2284753afeaba79",
       "tooltip": ""
      }
     },
     "9fcc75bec2d449fdb3ca717b3d20c305": {
      "model_module": "@jupyter-widgets/output",
      "model_module_version": "1.0.0",
      "model_name": "OutputModel",
      "state": {
       "_dom_classes": [],
       "_model_module": "@jupyter-widgets/output",
       "_model_module_version": "1.0.0",
       "_model_name": "OutputModel",
       "_view_count": null,
       "_view_module": "@jupyter-widgets/output",
       "_view_module_version": "1.0.0",
       "_view_name": "OutputView",
       "layout": "IPY_MODEL_865c17daa38349359c428588b087f211",
       "msg_id": "",
       "outputs": []
      }
     },
     "bf508548da934b0db5413772acc576dc": {
      "model_module": "@jupyter-widgets/controls",
      "model_module_version": "1.5.0",
      "model_name": "DropdownModel",
      "state": {
       "_dom_classes": [],
       "_model_module": "@jupyter-widgets/controls",
       "_model_module_version": "1.5.0",
       "_model_name": "DropdownModel",
       "_options_labels": [
        "Entry level",
        "Mid level",
        "Senior Level",
        "Experienced"
       ],
       "_view_count": null,
       "_view_module": "@jupyter-widgets/controls",
       "_view_module_version": "1.5.0",
       "_view_name": "DropdownView",
       "description": "Level of experience:",
       "description_tooltip": null,
       "disabled": false,
       "index": 0,
       "layout": "IPY_MODEL_5dfdcc2791de46faad7bab8ad57c6ad3",
       "style": "IPY_MODEL_005ce3c28c474ddbaf25215e4f66e83c"
      }
     },
     "cd26df4307544e3fa2284753afeaba79": {
      "model_module": "@jupyter-widgets/controls",
      "model_module_version": "1.5.0",
      "model_name": "ButtonStyleModel",
      "state": {
       "_model_module": "@jupyter-widgets/controls",
       "_model_module_version": "1.5.0",
       "_model_name": "ButtonStyleModel",
       "_view_count": null,
       "_view_module": "@jupyter-widgets/base",
       "_view_module_version": "1.2.0",
       "_view_name": "StyleView",
       "button_color": null,
       "font_weight": ""
      }
     },
     "d0b8515f30804b5fbed0a0aeebdf749c": {
      "model_module": "@jupyter-widgets/base",
      "model_module_version": "1.2.0",
      "model_name": "LayoutModel",
      "state": {
       "_model_module": "@jupyter-widgets/base",
       "_model_module_version": "1.2.0",
       "_model_name": "LayoutModel",
       "_view_count": null,
       "_view_module": "@jupyter-widgets/base",
       "_view_module_version": "1.2.0",
       "_view_name": "LayoutView",
       "align_content": null,
       "align_items": null,
       "align_self": null,
       "border": null,
       "bottom": null,
       "display": null,
       "flex": null,
       "flex_flow": null,
       "grid_area": null,
       "grid_auto_columns": null,
       "grid_auto_flow": null,
       "grid_auto_rows": null,
       "grid_column": null,
       "grid_gap": null,
       "grid_row": null,
       "grid_template_areas": null,
       "grid_template_columns": null,
       "grid_template_rows": null,
       "height": null,
       "justify_content": null,
       "justify_items": null,
       "left": null,
       "margin": null,
       "max_height": null,
       "max_width": null,
       "min_height": null,
       "min_width": null,
       "object_fit": null,
       "object_position": null,
       "order": null,
       "overflow": null,
       "overflow_x": null,
       "overflow_y": null,
       "padding": null,
       "right": null,
       "top": null,
       "visibility": null,
       "width": null
      }
     },
     "e82a683eb40542beb5865181376f58b4": {
      "model_module": "@jupyter-widgets/controls",
      "model_module_version": "1.5.0",
      "model_name": "ButtonStyleModel",
      "state": {
       "_model_module": "@jupyter-widgets/controls",
       "_model_module_version": "1.5.0",
       "_model_name": "ButtonStyleModel",
       "_view_count": null,
       "_view_module": "@jupyter-widgets/base",
       "_view_module_version": "1.2.0",
       "_view_name": "StyleView",
       "button_color": null,
       "font_weight": ""
      }
     }
    },
    "version_major": 2,
    "version_minor": 0
   }
  }
 },
 "nbformat": 4,
 "nbformat_minor": 5
}
